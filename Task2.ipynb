{
 "cells": [
  {
   "cell_type": "markdown",
   "id": "2b06becc",
   "metadata": {},
   "source": [
    "# Author: Kritika Srivastava"
   ]
  },
  {
   "cell_type": "markdown",
   "id": "e6e246c6",
   "metadata": {},
   "source": [
    "## Task 2: Prediction Using Unsupervised Machine Learning"
   ]
  },
  {
   "cell_type": "markdown",
   "id": "c04267fa",
   "metadata": {},
   "source": [
    "The task is to predict the optimum number of cluster and represent it visually."
   ]
  },
  {
   "cell_type": "markdown",
   "id": "ced26db7",
   "metadata": {},
   "source": [
    "### Question: From the given 'Iris' dataset predict the optimum number of clusters and represent it visually"
   ]
  },
  {
   "cell_type": "markdown",
   "id": "3d49d9f4",
   "metadata": {},
   "source": [
    "The first thing we need to do is load the required libraries, then the dataset and further we will explore the dataset."
   ]
  },
  {
   "cell_type": "markdown",
   "id": "0d4caf3e",
   "metadata": {},
   "source": [
    "#### Step 1: Importing required libraries"
   ]
  },
  {
   "cell_type": "code",
   "execution_count": 1,
   "id": "01898709",
   "metadata": {},
   "outputs": [
    {
     "name": "stdout",
     "output_type": "stream",
     "text": [
      "Libraries Successfully Imported!!\n"
     ]
    }
   ],
   "source": [
    "#step1: The first step will be to load the required libraries\n",
    "import pandas as pd\n",
    "import numpy as np\n",
    "import matplotlib.pyplot as plt\n",
    "import seaborn as sns\n",
    "from sklearn import datasets\n",
    "from sklearn.metrics import silhouette_score\n",
    "import warnings as wg\n",
    "wg.filterwarnings('ignore') \n",
    "print(\"Libraries Successfully Imported!!\")"
   ]
  },
  {
   "cell_type": "markdown",
   "id": "71b52468",
   "metadata": {},
   "source": [
    "#### Step 2: Reading the dataset"
   ]
  },
  {
   "cell_type": "code",
   "execution_count": 2,
   "id": "189884f8",
   "metadata": {},
   "outputs": [
    {
     "data": {
      "text/html": [
       "<div>\n",
       "<style scoped>\n",
       "    .dataframe tbody tr th:only-of-type {\n",
       "        vertical-align: middle;\n",
       "    }\n",
       "\n",
       "    .dataframe tbody tr th {\n",
       "        vertical-align: top;\n",
       "    }\n",
       "\n",
       "    .dataframe thead th {\n",
       "        text-align: right;\n",
       "    }\n",
       "</style>\n",
       "<table border=\"1\" class=\"dataframe\">\n",
       "  <thead>\n",
       "    <tr style=\"text-align: right;\">\n",
       "      <th></th>\n",
       "      <th>Id</th>\n",
       "      <th>SepalLengthCm</th>\n",
       "      <th>SepalWidthCm</th>\n",
       "      <th>PetalLengthCm</th>\n",
       "      <th>PetalWidthCm</th>\n",
       "      <th>Species</th>\n",
       "    </tr>\n",
       "  </thead>\n",
       "  <tbody>\n",
       "    <tr>\n",
       "      <th>0</th>\n",
       "      <td>1</td>\n",
       "      <td>5.1</td>\n",
       "      <td>3.5</td>\n",
       "      <td>1.4</td>\n",
       "      <td>0.2</td>\n",
       "      <td>Iris-setosa</td>\n",
       "    </tr>\n",
       "    <tr>\n",
       "      <th>1</th>\n",
       "      <td>2</td>\n",
       "      <td>4.9</td>\n",
       "      <td>3.0</td>\n",
       "      <td>1.4</td>\n",
       "      <td>0.2</td>\n",
       "      <td>Iris-setosa</td>\n",
       "    </tr>\n",
       "    <tr>\n",
       "      <th>2</th>\n",
       "      <td>3</td>\n",
       "      <td>4.7</td>\n",
       "      <td>3.2</td>\n",
       "      <td>1.3</td>\n",
       "      <td>0.2</td>\n",
       "      <td>Iris-setosa</td>\n",
       "    </tr>\n",
       "    <tr>\n",
       "      <th>3</th>\n",
       "      <td>4</td>\n",
       "      <td>4.6</td>\n",
       "      <td>3.1</td>\n",
       "      <td>1.5</td>\n",
       "      <td>0.2</td>\n",
       "      <td>Iris-setosa</td>\n",
       "    </tr>\n",
       "    <tr>\n",
       "      <th>4</th>\n",
       "      <td>5</td>\n",
       "      <td>5.0</td>\n",
       "      <td>3.6</td>\n",
       "      <td>1.4</td>\n",
       "      <td>0.2</td>\n",
       "      <td>Iris-setosa</td>\n",
       "    </tr>\n",
       "  </tbody>\n",
       "</table>\n",
       "</div>"
      ],
      "text/plain": [
       "   Id  SepalLengthCm  SepalWidthCm  PetalLengthCm  PetalWidthCm      Species\n",
       "0   1            5.1           3.5            1.4           0.2  Iris-setosa\n",
       "1   2            4.9           3.0            1.4           0.2  Iris-setosa\n",
       "2   3            4.7           3.2            1.3           0.2  Iris-setosa\n",
       "3   4            4.6           3.1            1.5           0.2  Iris-setosa\n",
       "4   5            5.0           3.6            1.4           0.2  Iris-setosa"
      ]
     },
     "execution_count": 2,
     "metadata": {},
     "output_type": "execute_result"
    }
   ],
   "source": [
    "#Step2: The second step is to read the dataset from the source.\n",
    "dataset_location=\"Iris.csv\"\n",
    "dataset=pd.read_csv(dataset_location)\n",
    "dataset.head()"
   ]
  },
  {
   "cell_type": "markdown",
   "id": "4cd50942",
   "metadata": {},
   "source": [
    "### Step 3: Exploring the dataset"
   ]
  },
  {
   "cell_type": "markdown",
   "id": "131a84c5",
   "metadata": {},
   "source": [
    "We will explore the dataset in two further steps. First will be knowing the structure of the dataset and the second will be knowing the statistical properties of the data set."
   ]
  },
  {
   "cell_type": "code",
   "execution_count": 3,
   "id": "afba3e99",
   "metadata": {},
   "outputs": [
    {
     "name": "stdout",
     "output_type": "stream",
     "text": [
      "<class 'pandas.core.frame.DataFrame'>\n",
      "RangeIndex: 150 entries, 0 to 149\n",
      "Data columns (total 6 columns):\n",
      " #   Column         Non-Null Count  Dtype  \n",
      "---  ------         --------------  -----  \n",
      " 0   Id             150 non-null    int64  \n",
      " 1   SepalLengthCm  150 non-null    float64\n",
      " 2   SepalWidthCm   150 non-null    float64\n",
      " 3   PetalLengthCm  150 non-null    float64\n",
      " 4   PetalWidthCm   150 non-null    float64\n",
      " 5   Species        150 non-null    object \n",
      "dtypes: float64(4), int64(1), object(1)\n",
      "memory usage: 7.2+ KB\n"
     ]
    },
    {
     "data": {
      "text/html": [
       "<div>\n",
       "<style scoped>\n",
       "    .dataframe tbody tr th:only-of-type {\n",
       "        vertical-align: middle;\n",
       "    }\n",
       "\n",
       "    .dataframe tbody tr th {\n",
       "        vertical-align: top;\n",
       "    }\n",
       "\n",
       "    .dataframe thead th {\n",
       "        text-align: right;\n",
       "    }\n",
       "</style>\n",
       "<table border=\"1\" class=\"dataframe\">\n",
       "  <thead>\n",
       "    <tr style=\"text-align: right;\">\n",
       "      <th></th>\n",
       "      <th>Id</th>\n",
       "      <th>SepalLengthCm</th>\n",
       "      <th>SepalWidthCm</th>\n",
       "      <th>PetalLengthCm</th>\n",
       "      <th>PetalWidthCm</th>\n",
       "    </tr>\n",
       "  </thead>\n",
       "  <tbody>\n",
       "    <tr>\n",
       "      <th>count</th>\n",
       "      <td>150.000000</td>\n",
       "      <td>150.000000</td>\n",
       "      <td>150.000000</td>\n",
       "      <td>150.000000</td>\n",
       "      <td>150.000000</td>\n",
       "    </tr>\n",
       "    <tr>\n",
       "      <th>mean</th>\n",
       "      <td>75.500000</td>\n",
       "      <td>5.843333</td>\n",
       "      <td>3.054000</td>\n",
       "      <td>3.758667</td>\n",
       "      <td>1.198667</td>\n",
       "    </tr>\n",
       "    <tr>\n",
       "      <th>std</th>\n",
       "      <td>43.445368</td>\n",
       "      <td>0.828066</td>\n",
       "      <td>0.433594</td>\n",
       "      <td>1.764420</td>\n",
       "      <td>0.763161</td>\n",
       "    </tr>\n",
       "    <tr>\n",
       "      <th>min</th>\n",
       "      <td>1.000000</td>\n",
       "      <td>4.300000</td>\n",
       "      <td>2.000000</td>\n",
       "      <td>1.000000</td>\n",
       "      <td>0.100000</td>\n",
       "    </tr>\n",
       "    <tr>\n",
       "      <th>25%</th>\n",
       "      <td>38.250000</td>\n",
       "      <td>5.100000</td>\n",
       "      <td>2.800000</td>\n",
       "      <td>1.600000</td>\n",
       "      <td>0.300000</td>\n",
       "    </tr>\n",
       "    <tr>\n",
       "      <th>50%</th>\n",
       "      <td>75.500000</td>\n",
       "      <td>5.800000</td>\n",
       "      <td>3.000000</td>\n",
       "      <td>4.350000</td>\n",
       "      <td>1.300000</td>\n",
       "    </tr>\n",
       "    <tr>\n",
       "      <th>75%</th>\n",
       "      <td>112.750000</td>\n",
       "      <td>6.400000</td>\n",
       "      <td>3.300000</td>\n",
       "      <td>5.100000</td>\n",
       "      <td>1.800000</td>\n",
       "    </tr>\n",
       "    <tr>\n",
       "      <th>max</th>\n",
       "      <td>150.000000</td>\n",
       "      <td>7.900000</td>\n",
       "      <td>4.400000</td>\n",
       "      <td>6.900000</td>\n",
       "      <td>2.500000</td>\n",
       "    </tr>\n",
       "  </tbody>\n",
       "</table>\n",
       "</div>"
      ],
      "text/plain": [
       "               Id  SepalLengthCm  SepalWidthCm  PetalLengthCm  PetalWidthCm\n",
       "count  150.000000     150.000000    150.000000     150.000000    150.000000\n",
       "mean    75.500000       5.843333      3.054000       3.758667      1.198667\n",
       "std     43.445368       0.828066      0.433594       1.764420      0.763161\n",
       "min      1.000000       4.300000      2.000000       1.000000      0.100000\n",
       "25%     38.250000       5.100000      2.800000       1.600000      0.300000\n",
       "50%     75.500000       5.800000      3.000000       4.350000      1.300000\n",
       "75%    112.750000       6.400000      3.300000       5.100000      1.800000\n",
       "max    150.000000       7.900000      4.400000       6.900000      2.500000"
      ]
     },
     "execution_count": 3,
     "metadata": {},
     "output_type": "execute_result"
    }
   ],
   "source": [
    "#Step3: The third step is to explore the data in the above mentioned two ways\n",
    "dataset.info()\n",
    "dataset.describe()"
   ]
  },
  {
   "cell_type": "markdown",
   "id": "b4e11baf",
   "metadata": {},
   "source": [
    "Here, we see that our dataset comprises of six columns i.e. it has six variables Id, SepalLengthCm, SepalWidthCm, PetalLengthCm, PetalWidthCm and Species.SepalLengthCm, SepalWidthCm, PetalLengthCm and PetalWidthCm variable are of float type while the Id is of integer type and species is an object. Also, the dataset has 150 entries and thus we have 150 observation in each of the above 6 columns. Now note that all 150 observations are non-null which means that there is no missing observation in our data. Now the mean SepalLenghtCm is 5.84 with a standard deviation of 0.83, the mean SepalWidthCm is 3.05 with a standard deviation of 0.43, the mean PetalLenghtCm is 3.76 with a standard deviation of 1.76 and the mean PetalWidthCm is 1.19 with a standard deviation of 0.76.Further, the minimum, maximum and quartiles can be seen from the table above for each of the column."
   ]
  },
  {
   "cell_type": "markdown",
   "id": "a3353811",
   "metadata": {},
   "source": [
    "Now to get some idea about the species variable let us look at the frequency distribution of the species:"
   ]
  },
  {
   "cell_type": "code",
   "execution_count": 4,
   "id": "55730a33",
   "metadata": {},
   "outputs": [
    {
     "data": {
      "text/plain": [
       "Iris-setosa        50\n",
       "Iris-versicolor    50\n",
       "Iris-virginica     50\n",
       "Name: Species, dtype: int64"
      ]
     },
     "execution_count": 4,
     "metadata": {},
     "output_type": "execute_result"
    }
   ],
   "source": [
    "#to find the frequency distribution of variable species:\n",
    "dataset['Species'].value_counts()"
   ]
  },
  {
   "cell_type": "markdown",
   "id": "5195ff9d",
   "metadata": {},
   "source": [
    "So, here we can see that the flower Iris has three species: setosa, versicolor and virginica. Each with a count of 50."
   ]
  },
  {
   "cell_type": "markdown",
   "id": "bbbf9e81",
   "metadata": {},
   "source": [
    "#### Step 4: Data Preparation"
   ]
  },
  {
   "cell_type": "markdown",
   "id": "2fef8b45",
   "metadata": {},
   "source": [
    "We will first create the dataframe using the pandas library. As we do not need the variable Id for our analysis so we will drop this column from our dataframe. Further, we will look for outliers and if any exist we will remove it."
   ]
  },
  {
   "cell_type": "code",
   "execution_count": 5,
   "id": "942ef086",
   "metadata": {},
   "outputs": [
    {
     "data": {
      "text/html": [
       "<div>\n",
       "<style scoped>\n",
       "    .dataframe tbody tr th:only-of-type {\n",
       "        vertical-align: middle;\n",
       "    }\n",
       "\n",
       "    .dataframe tbody tr th {\n",
       "        vertical-align: top;\n",
       "    }\n",
       "\n",
       "    .dataframe thead th {\n",
       "        text-align: right;\n",
       "    }\n",
       "</style>\n",
       "<table border=\"1\" class=\"dataframe\">\n",
       "  <thead>\n",
       "    <tr style=\"text-align: right;\">\n",
       "      <th></th>\n",
       "      <th>SepalLengthCm</th>\n",
       "      <th>SepalWidthCm</th>\n",
       "      <th>PetalLengthCm</th>\n",
       "      <th>PetalWidthCm</th>\n",
       "      <th>Species</th>\n",
       "    </tr>\n",
       "  </thead>\n",
       "  <tbody>\n",
       "    <tr>\n",
       "      <th>0</th>\n",
       "      <td>5.1</td>\n",
       "      <td>3.5</td>\n",
       "      <td>1.4</td>\n",
       "      <td>0.2</td>\n",
       "      <td>Iris-setosa</td>\n",
       "    </tr>\n",
       "    <tr>\n",
       "      <th>1</th>\n",
       "      <td>4.9</td>\n",
       "      <td>3.0</td>\n",
       "      <td>1.4</td>\n",
       "      <td>0.2</td>\n",
       "      <td>Iris-setosa</td>\n",
       "    </tr>\n",
       "    <tr>\n",
       "      <th>2</th>\n",
       "      <td>4.7</td>\n",
       "      <td>3.2</td>\n",
       "      <td>1.3</td>\n",
       "      <td>0.2</td>\n",
       "      <td>Iris-setosa</td>\n",
       "    </tr>\n",
       "    <tr>\n",
       "      <th>3</th>\n",
       "      <td>4.6</td>\n",
       "      <td>3.1</td>\n",
       "      <td>1.5</td>\n",
       "      <td>0.2</td>\n",
       "      <td>Iris-setosa</td>\n",
       "    </tr>\n",
       "    <tr>\n",
       "      <th>4</th>\n",
       "      <td>5.0</td>\n",
       "      <td>3.6</td>\n",
       "      <td>1.4</td>\n",
       "      <td>0.2</td>\n",
       "      <td>Iris-setosa</td>\n",
       "    </tr>\n",
       "  </tbody>\n",
       "</table>\n",
       "</div>"
      ],
      "text/plain": [
       "   SepalLengthCm  SepalWidthCm  PetalLengthCm  PetalWidthCm      Species\n",
       "0            5.1           3.5            1.4           0.2  Iris-setosa\n",
       "1            4.9           3.0            1.4           0.2  Iris-setosa\n",
       "2            4.7           3.2            1.3           0.2  Iris-setosa\n",
       "3            4.6           3.1            1.5           0.2  Iris-setosa\n",
       "4            5.0           3.6            1.4           0.2  Iris-setosa"
      ]
     },
     "execution_count": 5,
     "metadata": {},
     "output_type": "execute_result"
    }
   ],
   "source": [
    "#step5(a): The fifth step will be creating the dataframe\n",
    "dataframe=pd.DataFrame(dataset)\n",
    "Iris=dataframe.drop(columns=[\"Id\"])\n",
    "Iris.head()"
   ]
  },
  {
   "cell_type": "markdown",
   "id": "d78bd868",
   "metadata": {},
   "source": [
    "Now we will look for outliers. And to do so we will plot the Boxplot"
   ]
  },
  {
   "cell_type": "code",
   "execution_count": 6,
   "id": "acbf556f",
   "metadata": {},
   "outputs": [
    {
     "data": {
      "text/plain": [
       "Text(0.5, 1.0, 'Boxplot')"
      ]
     },
     "execution_count": 6,
     "metadata": {},
     "output_type": "execute_result"
    },
    {
     "data": {
      "image/png": "[encoded data removed]",
      "text/plain": [
       "<Figure size 432x288 with 1 Axes>"
      ]
     },
     "metadata": {
      "needs_background": "light"
     },
     "output_type": "display_data"
    }
   ],
   "source": [
    "#step5(b): Now we will look for the outliers if their exist any\n",
    "sns.boxplot(data=Iris)\n",
    "plt.title(\"Boxplot\")"
   ]
  },
  {
   "cell_type": "markdown",
   "id": "5d191d4d",
   "metadata": {},
   "source": [
    "From, the boxplot we can see that only the SepalWidthCm has some outliers while the other three variables do not have outliers. Thus, now we will remove these outliers by using the Inter Quartile Range (IQR) method. According to which any observation outside the range of (Q1-1.5(IQR)) and (Q3+1.5(IQR)) will be considered an outlier and should be removed. And IQR is defined as:\n"
   ]
  },
  {
   "cell_type": "markdown",
   "id": "ae06730a",
   "metadata": {},
   "source": [
    "IQR=Q3-Q1\n"
   ]
  },
  {
   "cell_type": "markdown",
   "id": "4e02f5c4",
   "metadata": {},
   "source": [
    "where Q3  is the third quartile and Q1 is the first quartile."
   ]
  },
  {
   "cell_type": "code",
   "execution_count": 7,
   "id": "c13e1eb5",
   "metadata": {},
   "outputs": [
    {
     "name": "stdout",
     "output_type": "stream",
     "text": [
      "Outliers Removed Successfully!!\n"
     ]
    }
   ],
   "source": [
    "#step5(c): removing the outliers \n",
    "Q1=Iris.quantile(0.25)\n",
    "Q3=Iris.quantile(0.75)\n",
    "IQR=Q3-Q1\n",
    "Iris=Iris[-((Iris<(Q1-1.5*IQR))|(Iris>(Q3+1.5*IQR))).any(axis=1)]\n",
    "print(\"Outliers Removed Successfully!!\")"
   ]
  },
  {
   "cell_type": "code",
   "execution_count": 8,
   "id": "9f9890b1",
   "metadata": {},
   "outputs": [
    {
     "data": {
      "text/plain": [
       "Text(0.5, 1.0, 'Boxplot After removing Outliers')"
      ]
     },
     "execution_count": 8,
     "metadata": {},
     "output_type": "execute_result"
    },
    {
     "data": {
      "image/png": "[encoded data removed]",
      "text/plain": [
       "<Figure size 432x288 with 1 Axes>"
      ]
     },
     "metadata": {
      "needs_background": "light"
     },
     "output_type": "display_data"
    }
   ],
   "source": [
    "#Step5(d): Cross checking if the outliers are removed\n",
    "sns.boxplot(data=Iris)\n",
    "plt.title(\"Boxplot After removing Outliers\")"
   ]
  },
  {
   "cell_type": "markdown",
   "id": "c6f10985",
   "metadata": {},
   "source": [
    "Thus, we can see that our dataset is free from outliers now. And so we can proceed further."
   ]
  },
  {
   "cell_type": "markdown",
   "id": "29d9453e",
   "metadata": {},
   "source": [
    "#### Step 6: Solution Step: Applying the K-Means Clustering Algorithm and visualising it"
   ]
  },
  {
   "cell_type": "markdown",
   "id": "ab2c5d69",
   "metadata": {},
   "source": [
    "Now we will perform the centroid based clustering algorithm called K-means clustering. Such algorithms are effecient but sensitive to initial conditions and outliers. \n",
    "Here we will apply the Elbow method to decide on the optimum number of cluster(k) to perform the K-means clustering."
   ]
  },
  {
   "cell_type": "markdown",
   "id": "02ed7933",
   "metadata": {},
   "source": [
    "##### The Elbow Method:"
   ]
  },
  {
   "cell_type": "markdown",
   "id": "d9ca8213",
   "metadata": {},
   "source": [
    "This method is commonly used to determine the optimum number of clusters in a dataset. In this method we plot the explained variation as a function of the number of clusters, and finally we pick the number of cluster at which we see an elbow in the curve plotted and this is the number of cluster to be used. "
   ]
  },
  {
   "cell_type": "markdown",
   "id": "061a72be",
   "metadata": {},
   "source": [
    "To apply the method we will first make data arrangement so that we can use the data in the algorithm easily. And then we will import the KMeans method from the sklear.cluster. Then we will take different cluster values and observe the within cluster sum of squares(WCSS) . Further, in the for loop we will fit the model on the prepared data and will store different value of WCSS for different k in a list."
   ]
  },
  {
   "cell_type": "markdown",
   "id": "20c4546d",
   "metadata": {},
   "source": [
    "Next, we will plot the elbow plot with the value of k on the x axis and WCSS on the y axis and will look for the elbow. \n",
    "Here for the simplicity I have indicated the elbow using the plt.annote() method using an arrow prop"
   ]
  },
  {
   "cell_type": "code",
   "execution_count": 9,
   "id": "d0bb92ff",
   "metadata": {},
   "outputs": [
    {
     "data": {
      "image/png": "[encoded data removed]",
      "text/plain": [
       "<Figure size 432x288 with 1 Axes>"
      ]
     },
     "metadata": {
      "needs_background": "light"
     },
     "output_type": "display_data"
    }
   ],
   "source": [
    "#Step6(a): Applying the Elbow Method\n",
    "x=Iris.iloc[:,[0,1,2,3]].values\n",
    "from sklearn.cluster import KMeans\n",
    "WCSS=[]\n",
    "k=range(1,11)\n",
    "for i in k:\n",
    "    kmeans=KMeans(n_clusters=i,init='k-means++',\n",
    "                 max_iter=300,n_init=10,random_state=0)\n",
    "    kmeans=kmeans.fit(x)\n",
    "    WCSS.append(kmeans.inertia_)\n",
    "WCSS\n",
    "plt.plot(k,WCSS,\"go--\")\n",
    "plt.title(\"Plot for the Elbow Method\")\n",
    "plt.xlabel(\"Numeber of Cluster(s)\")\n",
    "plt.ylabel(\"Within Cluster Sum of Squares(WCSS)\")\n",
    "plt.annotate(\"Elbow\",xytext=(4,200),xy=(3,80),arrowprops={\"facecolor\":\"black\"})\n",
    "plt.grid()"
   ]
  },
  {
   "cell_type": "markdown",
   "id": "2e7b04da",
   "metadata": {},
   "source": [
    "From the above plot we can see that elbow occurs by 3 poinra. Thus the elbow method shows the value of k to be 3."
   ]
  },
  {
   "cell_type": "markdown",
   "id": "8307008d",
   "metadata": {},
   "source": [
    "###### From the elbow method we get the optimum number of clusters to be 3"
   ]
  },
  {
   "cell_type": "markdown",
   "id": "249d22c1",
   "metadata": {},
   "source": [
    "#### Visualising the clusters"
   ]
  },
  {
   "cell_type": "markdown",
   "id": "f253b44d",
   "metadata": {},
   "source": [
    "Now we will visualise the clusters using the k means classifier for 3 clusters. And then we will plot the clusters for the Sepal (first two columns of the data set) and Petal (last two columns of the data set) independently. "
   ]
  },
  {
   "cell_type": "code",
   "execution_count": 10,
   "id": "881b33cf",
   "metadata": {},
   "outputs": [
    {
     "data": {
      "text/plain": [
       "array([1, 1, 1, 1, 1, 1, 1, 1, 1, 1, 1, 1, 1, 1, 1, 1, 1, 1, 1, 1, 1, 1,\n",
       "       1, 1, 1, 1, 1, 1, 1, 1, 1, 1, 1, 1, 1, 1, 1, 1, 1, 1, 1, 1, 1, 1,\n",
       "       1, 1, 1, 0, 0, 2, 0, 0, 0, 0, 0, 0, 0, 0, 0, 0, 0, 0, 0, 0, 0, 0,\n",
       "       0, 0, 0, 0, 0, 0, 0, 2, 0, 0, 0, 0, 0, 0, 0, 0, 0, 0, 0, 0, 0, 0,\n",
       "       0, 0, 0, 0, 0, 0, 0, 0, 2, 0, 2, 2, 2, 2, 0, 2, 2, 2, 2, 2, 2, 0,\n",
       "       0, 2, 2, 2, 2, 0, 2, 0, 2, 0, 2, 2, 0, 0, 2, 2, 2, 2, 2, 0, 2, 2,\n",
       "       2, 2, 0, 2, 2, 2, 0, 2, 2, 2, 0, 2, 2, 0])"
      ]
     },
     "execution_count": 10,
     "metadata": {},
     "output_type": "execute_result"
    }
   ],
   "source": [
    "#step6(b): Visualising the clusters\n",
    "kmeans=KMeans(n_clusters=3,init='k-means++',\n",
    "             max_iter=300,n_init=10,random_state=0)\n",
    "ykmeans=kmeans.fit_predict(x)\n",
    "ykmeans"
   ]
  },
  {
   "cell_type": "code",
   "execution_count": 11,
   "id": "d5764926",
   "metadata": {},
   "outputs": [
    {
     "data": {
      "text/plain": [
       "<matplotlib.legend.Legend at 0x2246ffbd8d0>"
      ]
     },
     "execution_count": 11,
     "metadata": {},
     "output_type": "execute_result"
    },
    {
     "data": {
      "image/png": "[encoded data removed]",
      "text/plain": [
       "<Figure size 432x288 with 1 Axes>"
      ]
     },
     "metadata": {
      "needs_background": "light"
     },
     "output_type": "display_data"
    }
   ],
   "source": [
    "#visualising the first two columns of the data with the centroid of clusters\n",
    "plt.scatter(x[ykmeans==0,0],x[ykmeans==0,1],s=50, c='red',label=\"Setosa\")\n",
    "plt.scatter(x[ykmeans==1,0],x[ykmeans==1,1],s=50, c='yellow',label=\"Versicolor\")\n",
    "plt.scatter(x[ykmeans==2,0],x[ykmeans==2,1],s=50, c='orange',label=\"Virginica\")\n",
    "plt.scatter(kmeans.cluster_centers_[:,0],kmeans.cluster_centers_[:,1],s=100, c='black',label=\"Centroid\")\n",
    "plt.legend(loc=1,bbox_to_anchor=(1.35,1),prop={\"size\":15})"
   ]
  },
  {
   "cell_type": "code",
   "execution_count": 12,
   "id": "0d1f2ebc",
   "metadata": {},
   "outputs": [
    {
     "data": {
      "text/plain": [
       "<matplotlib.legend.Legend at 0x22470059978>"
      ]
     },
     "execution_count": 12,
     "metadata": {},
     "output_type": "execute_result"
    },
    {
     "data": {
      "image/png": "[encoded data removed]",
      "text/plain": [
       "<Figure size 432x288 with 1 Axes>"
      ]
     },
     "metadata": {
      "needs_background": "light"
     },
     "output_type": "display_data"
    }
   ],
   "source": [
    "#visualising the last two columns of the data with the centroid of clusters\n",
    "plt.scatter(x[ykmeans==0,2],x[ykmeans==0,3],s=50, c='red',label=\"Setosa\")\n",
    "plt.scatter(x[ykmeans==1,2],x[ykmeans==1,3],s=50, c='yellow',label=\"Versicolor\")\n",
    "plt.scatter(x[ykmeans==2,2],x[ykmeans==2,3],s=50, c='orange',label=\"Virginica\")\n",
    "plt.scatter(kmeans.cluster_centers_[:,2],kmeans.cluster_centers_[:,3],s=100, c='black',label=\"Centroid\")\n",
    "plt.legend(loc=1,bbox_to_anchor=(1.35,1),prop={\"size\":15})"
   ]
  },
  {
   "cell_type": "markdown",
   "id": "6770a9a8",
   "metadata": {},
   "source": [
    "Thus, these are the two visual representation of our clusters with the centroids."
   ]
  },
  {
   "cell_type": "markdown",
   "id": "06dd8098",
   "metadata": {},
   "source": [
    "## Conclusion:"
   ]
  },
  {
   "cell_type": "markdown",
   "id": "072b4da5",
   "metadata": {},
   "source": [
    "### So we have predicted the optimum number of clusters to be 3 and above is the visual representation of the clusters."
   ]
  },
  {
   "cell_type": "markdown",
   "id": "585b14b5",
   "metadata": {},
   "source": [
    "# Thank You!!"
   ]
  }
 ],
 "metadata": {
  "kernelspec": {
   "display_name": "Python 3 (ipykernel)",
   "language": "python",
   "name": "python3"
  },
  "language_info": {
   "codemirror_mode": {
    "name": "ipython",
    "version": 3
   },
   "file_extension": ".py",
   "mimetype": "text/x-python",
   "name": "python",
   "nbconvert_exporter": "python",
   "pygments_lexer": "ipython3",
   "version": "3.7.1"
  }
 },
 "nbformat": 4,
 "nbformat_minor": 5
}
